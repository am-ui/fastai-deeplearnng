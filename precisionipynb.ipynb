{
  "nbformat": 4,
  "nbformat_minor": 0,
  "metadata": {
    "colab": {
      "name": "precisionipynb",
      "provenance": []
    },
    "kernelspec": {
      "name": "python3",
      "display_name": "Python 3"
    }
  },
  "cells": [
    {
      "cell_type": "code",
      "metadata": {
        "id": "2n44ld70xHHv"
      },
      "source": [
        "import pandas as pd\r\n",
        "import numpy as np\r\n",
        "import matplotlib.pyplot as plt\r\n",
        "import seaborn as sns"
      ],
      "execution_count": 7,
      "outputs": []
    },
    {
      "cell_type": "code",
      "metadata": {
        "id": "M8n8I1UsxV8M"
      },
      "source": [
        "import sklearn\r\n",
        "from sklearn.metrics import confusion_matrix , classification_report"
      ],
      "execution_count": 8,
      "outputs": []
    },
    {
      "cell_type": "code",
      "metadata": {
        "id": "NuhSkNn9xyKN"
      },
      "source": [
        "def print_confusion_matrix(confusion_matrix, class_names, figsize = (10,7), fontsize=14):\r\n",
        "    \"\"\"Prints a confusion matrix, as returned by sklearn.metrics.confusion_matrix, as a heatmap.\r\n",
        "    \r\n",
        "    Arguments\r\n",
        "    ---------\r\n",
        "    confusion_matrix: numpy.ndarray\r\n",
        "        The numpy.ndarray object returned from a call to sklearn.metrics.confusion_matrix. \r\n",
        "        Similarly constructed ndarrays can also be used.\r\n",
        "    class_names: list\r\n",
        "        An ordered list of class names, in the order they index the given confusion matrix.\r\n",
        "    figsize: tuple\r\n",
        "        A 2-long tuple, the first value determining the horizontal size of the ouputted figure,\r\n",
        "        the second determining the vertical size. Defaults to (10,7).\r\n",
        "    fontsize: int\r\n",
        "        Font size for axes labels. Defaults to 14.\r\n",
        "        \r\n",
        "    Returns\r\n",
        "    -------\r\n",
        "    matplotlib.figure.Figure\r\n",
        "        The resulting confusion matrix figure\r\n",
        "    \"\"\"\r\n",
        "    df_cm = pd.DataFrame(\r\n",
        "        confusion_matrix, index=class_names, columns=class_names, \r\n",
        "    )\r\n",
        "    fig = plt.figure(figsize=figsize)\r\n",
        "    try:\r\n",
        "        heatmap = sns.heatmap(df_cm, annot=True, fmt=\"d\")\r\n",
        "    except ValueError:\r\n",
        "        raise ValueError(\"Confusion matrix values must be integers.\")\r\n",
        "    heatmap.yaxis.set_ticklabels(heatmap.yaxis.get_ticklabels(), rotation=0, ha='right', fontsize=fontsize)\r\n",
        "    heatmap.xaxis.set_ticklabels(heatmap.xaxis.get_ticklabels(), rotation=45, ha='right', fontsize=fontsize)\r\n",
        "    plt.ylabel('Truth')\r\n",
        "    plt.xlabel('Prediction')"
      ],
      "execution_count": 9,
      "outputs": []
    },
    {
      "cell_type": "code",
      "metadata": {
        "id": "zuRD96SsyBeb"
      },
      "source": [
        "truth =      [\"Dog\",\"Not a dog\",\"Dog\",\"Dog\",      \"Dog\", \"Not a dog\", \"Not a dog\", \"Dog\",       \"Dog\", \"Not a dog\"]\r\n",
        "prediction = [\"Dog\",\"Dog\",      \"Dog\",\"Not a dog\",\"Dog\", \"Not a dog\", \"Dog\",       \"Not a dog\", \"Dog\", \"Dog\"]"
      ],
      "execution_count": 10,
      "outputs": []
    },
    {
      "cell_type": "code",
      "metadata": {
        "colab": {
          "base_uri": "https://localhost:8080/",
          "height": 495
        },
        "id": "GIbG3rITyG9B",
        "outputId": "417a829d-17eb-497d-f60b-effab78c72cb"
      },
      "source": [
        "cm = confusion_matrix(truth,prediction)\r\n",
        "print_confusion_matrix(cm,[\"Dog\",\"Not a dog\"])"
      ],
      "execution_count": 11,
      "outputs": [
        {
          "output_type": "display_data",
          "data": {
            "image/png": "[encoded data removed]",
            "text/plain": [
              "<Figure size 720x504 with 2 Axes>"
            ]
          },
          "metadata": {
            "tags": [],
            "needs_background": "light"
          }
        }
      ]
    },
    {
      "cell_type": "code",
      "metadata": {
        "colab": {
          "base_uri": "https://localhost:8080/"
        },
        "id": "NVRFMVazyKoV",
        "outputId": "99f2327c-6a94-45ac-af68-b48655c47905"
      },
      "source": [
        "print(classification_report(truth, prediction))"
      ],
      "execution_count": 12,
      "outputs": [
        {
          "output_type": "stream",
          "text": [
            "              precision    recall  f1-score   support\n",
            "\n",
            "         Dog       0.57      0.67      0.62         6\n",
            "   Not a dog       0.33      0.25      0.29         4\n",
            "\n",
            "    accuracy                           0.50        10\n",
            "   macro avg       0.45      0.46      0.45        10\n",
            "weighted avg       0.48      0.50      0.48        10\n",
            "\n"
          ],
          "name": "stdout"
        }
      ]
    },
    {
      "cell_type": "code",
      "metadata": {
        "colab": {
          "base_uri": "https://localhost:8080/"
        },
        "id": "3meT3XNsyZip",
        "outputId": "ac683fad-295c-4b39-fe76-a52de566d427"
      },
      "source": [
        "#F1 Score for not a dog\r\n",
        "2*(0.57*0.67/(0.57+0.67))"
      ],
      "execution_count": 13,
      "outputs": [
        {
          "output_type": "execute_result",
          "data": {
            "text/plain": [
              "0.6159677419354839"
            ]
          },
          "metadata": {
            "tags": []
          },
          "execution_count": 13
        }
      ]
    },
    {
      "cell_type": "code",
      "metadata": {
        "colab": {
          "base_uri": "https://localhost:8080/"
        },
        "id": "PLvYB-ibyfFm",
        "outputId": "f378b435-9e96-4086-9320-bbb77d1ad9aa"
      },
      "source": [
        "\r\n",
        "#F1 score for a dog\r\n",
        "2*(0.33*0.25/(0.33+0.25))"
      ],
      "execution_count": 14,
      "outputs": [
        {
          "output_type": "execute_result",
          "data": {
            "text/plain": [
              "0.2844827586206896"
            ]
          },
          "metadata": {
            "tags": []
          },
          "execution_count": 14
        }
      ]
    },
    {
      "cell_type": "code",
      "metadata": {
        "id": "0huVXwGOyjTi"
      },
      "source": [
        ""
      ],
      "execution_count": null,
      "outputs": []
    }
  ]
}